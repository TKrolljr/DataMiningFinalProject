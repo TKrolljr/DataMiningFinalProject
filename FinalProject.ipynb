{
  "nbformat": 4,
  "nbformat_minor": 0,
  "metadata": {
    "colab": {
      "name": "FinalProject.ipynb",
      "provenance": [],
      "collapsed_sections": []
    },
    "kernelspec": {
      "name": "python3",
      "display_name": "Python 3"
    },
    "language_info": {
      "name": "python"
    }
  },
  "cells": [
    {
      "cell_type": "code",
      "metadata": {
        "id": "PjyI553tDY6G"
      },
      "source": [
        "import pandas as pd\n",
        "import numpy as np\n",
        "import re\n",
        "import string\n",
        "\n",
        "train_df = pd.read_csv(\"train.csv\")\n",
        "test_df = pd.read_csv(\"test.csv\")"
      ],
      "execution_count": 22,
      "outputs": []
    },
    {
      "cell_type": "code",
      "metadata": {
        "id": "IEnt3T9lEBfP"
      },
      "source": [
        "train_df['excerpt'][1]\n",
        "\n",
        "def cleanAllPunctuation(text):\n",
        "    text = text.translate(str.maketrans('', '', string.punctuation))\n",
        "    text = text.replace('\\n',\" \")\n",
        "    return text"
      ],
      "execution_count": 26,
      "outputs": []
    },
    {
      "cell_type": "code",
      "metadata": {
        "colab": {
          "base_uri": "https://localhost:8080/"
        },
        "id": "dYflYOjvEDMG",
        "outputId": "7470f70f-fa81-4bc1-b1b1-35a30c19adb6"
      },
      "source": [
        "text = train_df['excerpt'][1].translate(str.maketrans('', '', string.punctuation))"
      ],
      "execution_count": 27,
      "outputs": [
        {
          "output_type": "stream",
          "text": [
            "All through dinner time Mrs Fayre was somewhat silent her eyes resting on Dolly with a wistful uncertain expression She wanted to give the child the pleasure she craved but she had hard work to bring herself to the point of overcoming her own objections\n",
            "At last however when the meal was nearly over she smiled at her little daughter and said All right Dolly you may go\n",
            "Oh mother Dolly cried overwhelmed with sudden delight Really\n",
            "Oh I am so glad Are you sure youre willing\n",
            "Ive persuaded myself to be willing against my will returned Mrs Fayre whimsically I confess I just hate to have you go but I cant bear to deprive you of the pleasure trip And as you say it would also keep Dotty at home and so altogether I think I shall have to give in\n",
            "Oh you angel mother You blessed lady How good you are And Dolly flew around the table and gave her mother a hug that nearly suffocated her\n"
          ],
          "name": "stdout"
        }
      ]
    },
    {
      "cell_type": "code",
      "metadata": {
        "id": "rYEKDmqxHxFR"
      },
      "source": [
        "def averageWordCount(text):\n",
        "    words = text.split(' ')\n",
        "    words = np.toArray(words)\n",
        "    vecLen = np.vectorize(len)\n",
        "    print(vecxLen(words))\n",
        "\n",
        "def vectorizeText(text):\n",
        "    print('rip')\n",
        "\n",
        "averageWordCount(text)"
      ],
      "execution_count": null,
      "outputs": []
    }
  ]
}